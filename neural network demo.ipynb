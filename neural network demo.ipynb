{
 "cells": [
  {
   "cell_type": "markdown",
   "metadata": {},
   "source": [
    "# introduction"
   ]
  },
  {
   "cell_type": "markdown",
   "metadata": {},
   "source": [
    "1. 首先我用一个简单的demo为你展示神经网络训练的过程：\n",
    "   - 数据准备\n",
    "   - 网络搭建\n",
    "   - 利用反向传播算法迭代更新参数：\n",
    "      - optimizer.zero_grad() 清空过往梯度；\n",
    "      - loss.backward() 反向传播，计算当前梯度；\n",
    "      - optimizer.step() 根据梯度更新网络参数\n",
    "2. 然后我已以mnist为例为你展示一个稍复杂一点的网络"
   ]
  },
  {
   "cell_type": "markdown",
   "metadata": {},
   "source": [
    "# 神经网络demo"
   ]
  },
  {
   "cell_type": "markdown",
   "metadata": {},
   "source": [
    "## 数据准备"
   ]
  },
  {
   "cell_type": "code",
   "execution_count": 144,
   "metadata": {},
   "outputs": [
    {
     "name": "stdout",
     "output_type": "stream",
     "text": [
      " x:tensor([[-1., -1.],\n",
      "        [-2., -3.],\n",
      "        [ 3.,  2.],\n",
      "        [ 3.,  4.]]) \n",
      " y:tensor([-1., -1.,  1.,  1.])\n"
     ]
    }
   ],
   "source": [
    "import torch\n",
    "import torch.nn as nn\n",
    "\n",
    "#前两个样本标签是一类，标签为0;后两个样本是一类，标签为1\n",
    "sample_num=2\n",
    "x=torch.tensor([[-1,-1.0],#-1.0是让数据类型变成float，而不是int\n",
    "                [-2,-3],\n",
    "                [3,2],\n",
    "                [3,4]])\n",
    "y=torch.tensor([-1.0,-1,1,1])\n",
    "\n",
    "print(' x:{} \\n y:{}'.format(x,y))"
   ]
  },
  {
   "cell_type": "markdown",
   "metadata": {},
   "source": [
    "## 网络搭建"
   ]
  },
  {
   "cell_type": "code",
   "execution_count": 150,
   "metadata": {},
   "outputs": [],
   "source": [
    "class net(nn.Module):\n",
    "    def __init__(self):\n",
    "        super(net,self).__init__()\n",
    "        self.layer1=nn.Linear(2,5)#输入数据的维度为2，输出的维度为5\n",
    "        self.layer2=nn.Linear(5,1)\n",
    "        self.activation=nn.ReLU()\n",
    "    \n",
    "    def forward(self,x):\n",
    "        x1=self.layer1(x)\n",
    "        x2=self.activation(x1)\n",
    "        y_pred=self.layer2(x2)\n",
    "        return y_pred"
   ]
  },
  {
   "cell_type": "markdown",
   "metadata": {},
   "source": [
    "## train\n",
    "\n",
    "- 这个demo有问题，很可能达不到很好的准确率，这里只是让你了解宏观框架"
   ]
  },
  {
   "cell_type": "code",
   "execution_count": 149,
   "metadata": {
    "collapsed": true
   },
   "outputs": [
    {
     "name": "stdout",
     "output_type": "stream",
     "text": [
      "epoch0 loss: 1.0473737716674805 acc:0.0\n",
      "epoch1 loss: 1.0472602844238281 acc:0.0\n",
      "epoch2 loss: 1.047147274017334 acc:0.0\n",
      "epoch3 loss: 1.047034740447998 acc:0.0\n",
      "epoch4 loss: 1.0469223260879517 acc:0.0\n",
      "epoch5 loss: 1.046810507774353 acc:0.0\n",
      "epoch6 loss: 1.046699047088623 acc:0.0\n",
      "epoch7 loss: 1.0465879440307617 acc:0.0\n",
      "epoch8 loss: 1.046477198600769 acc:0.0\n",
      "epoch9 loss: 1.0463670492172241 acc:0.0\n",
      "epoch10 loss: 1.0462568998336792 acc:0.0\n",
      "epoch11 loss: 1.0461472272872925 acc:0.0\n",
      "epoch12 loss: 1.046038031578064 acc:0.0\n",
      "epoch13 loss: 1.0459290742874146 acc:0.0\n",
      "epoch14 loss: 1.045820713043213 acc:0.0\n",
      "epoch15 loss: 1.0457124710083008 acc:0.0\n",
      "epoch16 loss: 1.0456045866012573 acc:0.0\n",
      "epoch17 loss: 1.0454972982406616 acc:0.0\n",
      "epoch18 loss: 1.045390248298645 acc:0.0\n",
      "epoch19 loss: 1.0452836751937866 acc:0.0\n",
      "epoch20 loss: 1.0451774597167969 acc:0.0\n",
      "epoch21 loss: 1.0450713634490967 acc:0.0\n",
      "epoch22 loss: 1.0449657440185547 acc:0.0\n",
      "epoch23 loss: 1.044860601425171 acc:0.0\n",
      "epoch24 loss: 1.0447556972503662 acc:0.0\n",
      "epoch25 loss: 1.0446511507034302 acc:0.0\n",
      "epoch26 loss: 1.0445469617843628 acc:0.0\n",
      "epoch27 loss: 1.0444432497024536 acc:0.0\n",
      "epoch28 loss: 1.044339656829834 acc:0.0\n",
      "epoch29 loss: 1.0442365407943726 acc:0.0\n",
      "epoch30 loss: 1.0441336631774902 acc:0.0\n",
      "epoch31 loss: 1.0440312623977661 acc:0.0\n",
      "epoch32 loss: 1.043929100036621 acc:0.0\n",
      "epoch33 loss: 1.0438275337219238 acc:0.0\n",
      "epoch34 loss: 1.0437262058258057 acc:0.0\n",
      "epoch35 loss: 1.0436251163482666 acc:0.0\n",
      "epoch36 loss: 1.0435243844985962 acc:0.0\n",
      "epoch37 loss: 1.0434238910675049 acc:0.0\n",
      "epoch38 loss: 1.0433239936828613 acc:0.0\n",
      "epoch39 loss: 1.0432240962982178 acc:0.0\n",
      "epoch40 loss: 1.0431249141693115 acc:0.0\n",
      "epoch41 loss: 1.0430257320404053 acc:0.0\n",
      "epoch42 loss: 1.0429272651672363 acc:0.0\n",
      "epoch43 loss: 1.0428286790847778 acc:0.0\n",
      "epoch44 loss: 1.0427308082580566 acc:0.0\n",
      "epoch45 loss: 1.042633056640625 acc:0.0\n",
      "epoch46 loss: 1.0425355434417725 acc:0.0\n",
      "epoch47 loss: 1.0424386262893677 acc:0.0\n",
      "epoch48 loss: 1.0423418283462524 acc:0.0\n",
      "epoch49 loss: 1.0422455072402954 acc:0.0\n",
      "epoch50 loss: 1.0421494245529175 acc:0.0\n",
      "epoch51 loss: 1.0420536994934082 acc:0.0\n",
      "epoch52 loss: 1.041958212852478 acc:0.0\n",
      "epoch53 loss: 1.041862964630127 acc:0.0\n",
      "epoch54 loss: 1.0417683124542236 acc:0.0\n",
      "epoch55 loss: 1.0416738986968994 acc:0.0\n",
      "epoch56 loss: 1.0415794849395752 acc:0.0\n",
      "epoch57 loss: 1.0414857864379883 acc:0.0\n",
      "epoch58 loss: 1.041392207145691 acc:0.0\n",
      "epoch59 loss: 1.0412989854812622 acc:0.0\n",
      "epoch60 loss: 1.0412061214447021 acc:0.0\n",
      "epoch61 loss: 1.0411134958267212 acc:0.0\n",
      "epoch62 loss: 1.0410212278366089 acc:0.0\n",
      "epoch63 loss: 1.0409293174743652 acc:0.0\n",
      "epoch64 loss: 1.0408376455307007 acc:0.0\n",
      "epoch65 loss: 1.0407460927963257 acc:0.0\n",
      "epoch66 loss: 1.0406548976898193 acc:0.0\n",
      "epoch67 loss: 1.0405641794204712 acc:0.0\n",
      "epoch68 loss: 1.0404738187789917 acc:0.0\n",
      "epoch69 loss: 1.0403835773468018 acc:0.0\n",
      "epoch70 loss: 1.04029381275177 acc:0.0\n",
      "epoch71 loss: 1.0402041673660278 acc:0.0\n",
      "epoch72 loss: 1.0401148796081543 acc:0.0\n",
      "epoch73 loss: 1.0400258302688599 acc:0.0\n",
      "epoch74 loss: 1.039937138557434 acc:0.0\n",
      "epoch75 loss: 1.039848804473877 acc:0.0\n",
      "epoch76 loss: 1.0397605895996094 acc:0.0\n",
      "epoch77 loss: 1.0396728515625 acc:0.0\n",
      "epoch78 loss: 1.0395853519439697 acc:0.0\n",
      "epoch79 loss: 1.0394980907440186 acc:0.0\n",
      "epoch80 loss: 1.039411187171936 acc:0.0\n",
      "epoch81 loss: 1.039324402809143 acc:0.0\n",
      "epoch82 loss: 1.0392382144927979 acc:0.0\n",
      "epoch83 loss: 1.0391521453857422 acc:0.0\n",
      "epoch84 loss: 1.0390660762786865 acc:0.0\n",
      "epoch85 loss: 1.0389807224273682 acc:0.0\n",
      "epoch86 loss: 1.0388953685760498 acc:0.0\n",
      "epoch87 loss: 1.0388104915618896 acc:0.0\n",
      "epoch88 loss: 1.0387258529663086 acc:0.0\n",
      "epoch89 loss: 1.038641333580017 acc:0.0\n",
      "epoch90 loss: 1.0385574102401733 acc:0.0\n",
      "epoch91 loss: 1.0384736061096191 acc:0.0\n",
      "epoch92 loss: 1.0383899211883545 acc:0.0\n",
      "epoch93 loss: 1.0383063554763794 acc:0.0\n",
      "epoch94 loss: 1.0382235050201416 acc:0.0\n",
      "epoch95 loss: 1.038140892982483 acc:0.0\n",
      "epoch96 loss: 1.0380584001541138 acc:0.0\n",
      "epoch97 loss: 1.0379760265350342 acc:0.0\n",
      "epoch98 loss: 1.0378942489624023 acc:0.0\n",
      "epoch99 loss: 1.0378124713897705 acc:0.0\n"
     ]
    }
   ],
   "source": [
    "model=net()\n",
    "optimizer = torch.optim.SGD(model.parameters(), lr=0.0001)#这里定义了一个优化器,用来更新权重\n",
    "\n",
    "for epoch in range(0,100):\n",
    "    #清空之前内存里的梯度,如果不请空之前的梯度，梯度会一直累加\n",
    "    optimizer.zero_grad()\n",
    "    \n",
    "    #将数据x输入到网络中，得到预测值。输入shape为(4,2)，输出shape为(4,1),4代表4条数据\n",
    "    y_pred=model.forward(x)\n",
    "    \n",
    "    #这是我自己定义的损失函数，使用平方误差\n",
    "    loss=torch.mean((y_pred-y)**2)\n",
    "    \n",
    "    #这行代码将自动计算各个变量的梯度，从loss开始一直到输入x，中间变量的梯度都会计算并暂存\n",
    "    loss.backward()\n",
    "    \n",
    "    #这行代码将利用暂存的梯度去更新网络权重\n",
    "    optimizer.step()\n",
    "    \n",
    "    #这是计算准确率\n",
    "    accuracy=(torch.sum(y_pred[:sample_num]<0)+torch.sum(y_pred[sample_num:]>0)).float()/(sample_num*2)\n",
    "    print('epoch{} loss: {} acc:{}'.format(epoch,loss.item(),accuracy))"
   ]
  },
  {
   "cell_type": "markdown",
   "metadata": {},
   "source": [
    "# mnsit分类demo\n",
    "\n",
    "- 参考网址：https://www.jianshu.com/p/ade6f9456ec5"
   ]
  },
  {
   "cell_type": "markdown",
   "metadata": {},
   "source": [
    "## 数据准备"
   ]
  },
  {
   "cell_type": "code",
   "execution_count": 5,
   "metadata": {},
   "outputs": [
    {
     "data": {
      "text/plain": [
       "<matplotlib.image.AxesImage at 0x7ff2d210e748>"
      ]
     },
     "execution_count": 5,
     "metadata": {},
     "output_type": "execute_result"
    },
    {
     "data": {
      "image/png": "[encoded data removed]",
      "text/plain": [
       "<Figure size 432x288 with 1 Axes>"
      ]
     },
     "metadata": {
      "needs_background": "light"
     },
     "output_type": "display_data"
    }
   ],
   "source": [
    "import torch\n",
    "import torch.nn as nn\n",
    "import torch.nn.functional as F\n",
    "import torch.optim as optim\n",
    "from torchvision import datasets, transforms\n",
    "import matplotlib.pyplot as plt\n",
    "\n",
    "BATCH_SIZE=512 #每次打包512个数据，一起扔进网络\n",
    "EPOCHS=5 # 总共训练的轮数\n",
    "DEVICE = torch.device(\"cuda\" if torch.cuda.is_available() else \"cpu\") # 让torch判断是否使用GPU\n",
    "\n",
    "#train_loader和test_loader使用pytorch内置的函数获取mnist数据，一开始会自动下载数据\n",
    "#document:https://pytorch.org/docs/stable/data.html?highlight=dataloader#torch.utils.data.DataLoader\n",
    "#遇到不会的，你就优先查官方的documentation\n",
    "train_loader = torch.utils.data.DataLoader(\n",
    "        datasets.MNIST('data', train=True, download=True, #有数据集后改为download=False\n",
    "                       transform=transforms.Compose([\n",
    "                           transforms.ToTensor(),\n",
    "                           transforms.Normalize((0.1307,), (0.3081,))#transform里面定义了对数据的预处理函数\n",
    "                       ])),\n",
    "        batch_size=BATCH_SIZE, shuffle=True)\n",
    "test_loader = torch.utils.data.DataLoader(\n",
    "        datasets.MNIST('data', train=False, transform=transforms.Compose([\n",
    "                           transforms.ToTensor(),\n",
    "                           transforms.Normalize((0.1307,), (0.3081,))\n",
    "                       ])),\n",
    "        batch_size=BATCH_SIZE, shuffle=True)\n",
    "\n",
    "#为你绘制一个数字\n",
    "plt.imshow(train_loader.dataset.data[0,:,:])"
   ]
  },
  {
   "cell_type": "markdown",
   "metadata": {},
   "source": [
    "## 网络搭建"
   ]
  },
  {
   "cell_type": "code",
   "execution_count": 3,
   "metadata": {
    "scrolled": true
   },
   "outputs": [],
   "source": [
    "class ConvNet(nn.Module):\n",
    "    def __init__(self):\n",
    "        super().__init__()\n",
    "        # 二维卷积操作，输入通道为1，输出通道为10(意味着有10个卷积核，每次卷积核生成一个通道的数据)\n",
    "        # 卷积核的大小是5*5的\n",
    "        self.conv1=nn.Conv2d(1,10,5) \n",
    "        self.conv2=nn.Conv2d(10,20,3)\n",
    "        \n",
    "        #全连接层，输入是2000维向量，输出是500维向量\n",
    "        self.fc1 = nn.Linear(20*10*10,500)\n",
    "        self.fc2 = nn.Linear(500,10)\n",
    "        \n",
    "    def forward(self,x):\n",
    "        # 输入数据shape: 512,1,28,28 \n",
    "        #其中521是batch_size,\n",
    "        #1是一个颜色通道，这是灰度图，不是彩色的，只有一个通道\n",
    "        #28,28分别是每幅图的长与宽\n",
    "        in_size = x.size(0)#in_size=512\n",
    "        out = self.conv1(x)\n",
    "        out = F.relu(out)# relu是一种激活函数\n",
    "        out = F.max_pool2d(out, 2, 2)  #最大池化操作，在2*2范围内找最大的那个值\n",
    "        out = self.conv2(out)\n",
    "        out = F.relu(out)\n",
    "        out = out.view(in_size,-1)#view函数可以改变数据的shape，in_size=512,-1代表自动确定维度，这里将数据变成(512,?)的矩阵，?根据数据自动确定\n",
    "        out = self.fc1(out)\n",
    "        out = F.relu(out)\n",
    "        out = self.fc2(out)\n",
    "        out = F.log_softmax(out,dim=1)# 文档：https://pytorch.org/docs/stable/nn.functional.html?highlight=log_softmax#torch.nn.functional.log_softmax\n",
    "        return out"
   ]
  },
  {
   "cell_type": "markdown",
   "metadata": {},
   "source": [
    "## train\n",
    "我们在训练集上迭代更新网络参数，紧接着在测试集上测试网络的性能，可以看到经过5轮迭代，网络的能在测试集上达到99%的准确率"
   ]
  },
  {
   "cell_type": "code",
   "execution_count": 6,
   "metadata": {},
   "outputs": [
    {
     "name": "stdout",
     "output_type": "stream",
     "text": [
      "Train Epoch: 1 [14848/60000 (25%)]\tLoss: 0.206701\n",
      "Train Epoch: 1 [30208/60000 (50%)]\tLoss: 0.164792\n",
      "Train Epoch: 1 [45568/60000 (75%)]\tLoss: 0.129204\n",
      "\n",
      "Test set: Average loss: 0.0793, Accuracy: 9762/10000 (98%)\n",
      "\n",
      "Train Epoch: 2 [14848/60000 (25%)]\tLoss: 0.065975\n",
      "Train Epoch: 2 [30208/60000 (50%)]\tLoss: 0.070608\n",
      "Train Epoch: 2 [45568/60000 (75%)]\tLoss: 0.050992\n",
      "\n",
      "Test set: Average loss: 0.0585, Accuracy: 9798/10000 (98%)\n",
      "\n",
      "Train Epoch: 3 [14848/60000 (25%)]\tLoss: 0.048688\n",
      "Train Epoch: 3 [30208/60000 (50%)]\tLoss: 0.041116\n",
      "Train Epoch: 3 [45568/60000 (75%)]\tLoss: 0.044716\n",
      "\n",
      "Test set: Average loss: 0.0488, Accuracy: 9839/10000 (98%)\n",
      "\n",
      "Train Epoch: 4 [14848/60000 (25%)]\tLoss: 0.028931\n",
      "Train Epoch: 4 [30208/60000 (50%)]\tLoss: 0.036014\n",
      "Train Epoch: 4 [45568/60000 (75%)]\tLoss: 0.041002\n",
      "\n",
      "Test set: Average loss: 0.0424, Accuracy: 9869/10000 (99%)\n",
      "\n",
      "Train Epoch: 5 [14848/60000 (25%)]\tLoss: 0.046034\n",
      "Train Epoch: 5 [30208/60000 (50%)]\tLoss: 0.024564\n",
      "Train Epoch: 5 [45568/60000 (75%)]\tLoss: 0.047217\n",
      "\n",
      "Test set: Average loss: 0.0398, Accuracy: 9852/10000 (99%)\n",
      "\n"
     ]
    }
   ],
   "source": [
    "model = ConvNet().to(DEVICE)#如果你的电脑有GPU，这行代码将模型转到GPU上，方便加速计算\n",
    "optimizer = optim.Adam(model.parameters())\n",
    "\n",
    "#在训练集上迭代更新网络参数\n",
    "def train(model, device, train_loader, optimizer, epoch):\n",
    "    # batch_idx是代表第几个batch\n",
    "    # data是图像数据，shape为(512,1,28,28)\n",
    "    # target是标签值，shape为(512),其中每一个元素为一个整数值，代表类别标签\n",
    "    for batch_idx, (data, target) in enumerate(train_loader):\n",
    "        data, target = data.to(device), target.to(device)#将数据从内存转到GPU的显存中（如果有GPU）\n",
    "        optimizer.zero_grad()\n",
    "        output = model.forward(data)\n",
    "        loss = F.nll_loss(output, target)#内置损失函数，文档：https://pytorch.org/docs/stable/nn.functional.html?highlight=nll_loss#torch.nn.functional.nll_loss\n",
    "        loss.backward()\n",
    "        optimizer.step()\n",
    "        if(batch_idx+1)%30 == 0: \n",
    "            print('Train Epoch: {} [{}/{} ({:.0f}%)]\\tLoss: {:.6f}'.format(\n",
    "                epoch, batch_idx * len(data), len(train_loader.dataset),\n",
    "                100. * batch_idx / len(train_loader), loss.item()))\n",
    "\n",
    "#在测试集上测试网络性能\n",
    "def test(model, device, test_loader):\n",
    "    model.eval()#测试时设置为evaluate模式，这样使用训练后得到的权重来测试网络性能\n",
    "    test_loss = 0\n",
    "    correct = 0\n",
    "    with torch.no_grad():\n",
    "        for data, target in test_loader:\n",
    "            data, target = data.to(device), target.to(device)\n",
    "            output = model(data)#正向计算预测值\n",
    "            test_loss += F.nll_loss(output, target, reduction='sum').item() # 将一批的损失相加\n",
    "            pred = output.max(1, keepdim=True)[1] # 找到概率最大的下标\n",
    "            correct += pred.eq(target.view_as(pred)).sum().item()#找到正确的预测值\n",
    "    test_loss /= len(test_loader.dataset)\n",
    "    print('\\nTest set: Average loss: {:.4f}, Accuracy: {}/{} ({:.0f}%)\\n'.format(\n",
    "        test_loss, correct, len(test_loader.dataset),\n",
    "        100. * correct / len(test_loader.dataset)))\n",
    "            \n",
    "for epoch in range(1, EPOCHS + 1):\n",
    "    train(model, DEVICE, train_loader, optimizer, epoch)\n",
    "    test(model, DEVICE, test_loader)"
   ]
  },
  {
   "cell_type": "markdown",
   "metadata": {},
   "source": [
    "## test\n",
    "- 这里为你展示了测试集中的第一个图片是数字7，并且网络预测的结果也是7"
   ]
  },
  {
   "cell_type": "code",
   "execution_count": 45,
   "metadata": {},
   "outputs": [
    {
     "name": "stdout",
     "output_type": "stream",
     "text": [
      "label:7\n"
     ]
    },
    {
     "data": {
      "image/png": "[encoded data removed]",
      "text/plain": [
       "<Figure size 432x288 with 1 Axes>"
      ]
     },
     "metadata": {
      "needs_background": "light"
     },
     "output_type": "display_data"
    },
    {
     "name": "stdout",
     "output_type": "stream",
     "text": [
      "y_pred:tensor([7], device='cuda:0')\n"
     ]
    }
   ],
   "source": [
    "x,y=test_loader.dataset[0]\n",
    "\n",
    "print('label:{}'.format(y))\n",
    "plt.imshow(x[0,:,:].numpy())\n",
    "plt.show()\n",
    "\n",
    "x=x.view(1,1,28,28).to(DEVICE)\n",
    "#这个y_pred的shape是(1,10)，代表1个数据，属于10类的概率，概率最高的那个类被认为是预测出来的类\n",
    "y_pred=model.forward(x)\n",
    "y_pred=torch.argmax(y_pred,dim=1)\n",
    "\n",
    "print('y_pred:{}'.format(y_pred))"
   ]
  }
 ],
 "metadata": {
  "kernelspec": {
   "display_name": "Python 3",
   "language": "python",
   "name": "python3"
  },
  "language_info": {
   "codemirror_mode": {
    "name": "ipython",
    "version": 3
   },
   "file_extension": ".py",
   "mimetype": "text/x-python",
   "name": "python",
   "nbconvert_exporter": "python",
   "pygments_lexer": "ipython3",
   "version": "3.6.7"
  },
  "toc": {
   "base_numbering": 1,
   "nav_menu": {},
   "number_sections": true,
   "sideBar": true,
   "skip_h1_title": false,
   "title_cell": "Table of Contents",
   "title_sidebar": "Contents",
   "toc_cell": false,
   "toc_position": {},
   "toc_section_display": true,
   "toc_window_display": true
  }
 },
 "nbformat": 4,
 "nbformat_minor": 2
}
